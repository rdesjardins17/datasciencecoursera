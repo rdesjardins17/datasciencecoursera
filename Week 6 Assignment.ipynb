{
 "cells": [
  {
   "cell_type": "markdown",
   "metadata": {},
   "source": [
    "<center>\n",
    "    <img src=\"https://cf-courses-data.s3.us.cloud-object-storage.appdomain.cloud/IBMDeveloperSkillsNetwork-DS0105EN-SkillsNetwork/labs/Module2/images/SN_web_lightmode.png\" width=\"300\" alt=\"cognitiveclass.ai logo\">\n",
    "</center>\n"
   ]
  },
  {
   "cell_type": "markdown",
   "metadata": {},
   "source": [
    "#### Add your code below following the instructions given in the course\n"
   ]
  },
  {
   "cell_type": "markdown",
   "metadata": {},
   "source": [
    "# This is my assignment"
   ]
  },
  {
   "cell_type": "markdown",
   "metadata": {},
   "source": [
    "#### Here is me introducing the assignment. \n",
    "Welcome to the assignment."
   ]
  },
  {
   "cell_type": "markdown",
   "metadata": {},
   "source": [
    "#### Common data science languages are:\n",
    "\n",
    "-Python  \n",
    "-R  \n",
    "-SQL  \n",
    "-Scala  \n",
    "-Java  \n",
    "-C++  \n",
    "-Julia  \n",
    "-JavaScript  \n",
    "-PHP  \n",
    "-Go  \n",
    "-Ruby  \n",
    "-Visual Basic"
   ]
  },
  {
   "cell_type": "markdown",
   "metadata": {},
   "source": [
    "#### Some data science libraries are:\n",
    "\n",
    "-Pandas  \n",
    "-NumPy  \n",
    "-Matplotlib  \n",
    "-Seaborn  \n",
    "-Scikit-learn  \n",
    "-Keras  \n",
    "-TensorFlow  \n",
    "-Pytorch  \n",
    "-Apache Spark  \n",
    "-Vegas  \n",
    "-ggplot2  "
   ]
  },
  {
   "cell_type": "markdown",
   "metadata": {},
   "source": [
    "#### Here is a table describing some data science tools:\n",
    "\n",
    "| Data Management | Data Integration and Transformation | Data Visualization and Modelling | Code Asset Management | Development Environments |\n",
    "| -------------| ------| -------- | ---- | ---- |\n",
    "| MySQL | Apache Hadoop | Cognos Analytics | Git | JupyterNotebooks |\n",
    "| PostgreSQL | Apache Spark | Tableau |  | RStudio |\n",
    "| MongoDB |  | PowerBI |  |  |\n",
    "| Apache Cassandra  |  |  |  |\n",
    "| Apache Hadoop |  |  |  |  |\n",
    "| Apache Spark |  |  |  |  |"
   ]
  },
  {
   "cell_type": "markdown",
   "metadata": {},
   "source": [
    " Create a markdown cell introducing arithmetic expression examples\n",
    " \n",
    " ## Below two cells will multiply and add integers, and convert minutes to hours respectively"
   ]
  },
  {
   "cell_type": "code",
   "execution_count": 3,
   "metadata": {},
   "outputs": [
    {
     "name": "stdout",
     "output_type": "stream",
     "text": [
      "x plus y equals 3\n",
      "x multiplied by z equals 6\n",
      "change these values yourself to see it work!\n"
     ]
    }
   ],
   "source": [
    "#Create a code cell to multiply and add numbers\n",
    "\n",
    "x = 2\n",
    "y = 1\n",
    "z = 3\n",
    "\n",
    "print(\"x plus y equals\", x+y)\n",
    "print(\"x multiplied by z equals\", x*z)\n",
    "print(\"change these values yourself to see it work!\")"
   ]
  },
  {
   "cell_type": "code",
   "execution_count": 4,
   "metadata": {},
   "outputs": [
    {
     "name": "stdout",
     "output_type": "stream",
     "text": [
      "change the variable x to however many minutes you want to reduce into hours\n",
      "120 minutes equals 2.0 hours!\n"
     ]
    }
   ],
   "source": [
    "#Create a code cell to convert minutes to hours\n",
    "\n",
    "#Explaining how to get your \n",
    "print(\"change the variable x to however many minutes you want to reduce into hours\")\n",
    "\n",
    "#The math bit\n",
    "x = 120 #total number of minutes\n",
    "y = 60\n",
    "z = x/y\n",
    "\n",
    "#Making it look nice\n",
    "print(x, \"minutes equals\", z, \"hours!\")\n",
    "\n"
   ]
  },
  {
   "cell_type": "markdown",
   "metadata": {},
   "source": [
    "Objectives:\n",
    "\n",
    "1. Create a Jupyter Notebook\n",
    "2. Insert code and markdown cells\n",
    "3. Share your notebook through GitHub"
   ]
  },
  {
   "cell_type": "markdown",
   "metadata": {},
   "source": [
    "Author: Raven Des Jardins"
   ]
  }
 ],
 "metadata": {
  "kernelspec": {
   "display_name": "Python 3 (ipykernel)",
   "language": "python",
   "name": "python3"
  },
  "language_info": {
   "codemirror_mode": {
    "name": "ipython",
    "version": 3
   },
   "file_extension": ".py",
   "mimetype": "text/x-python",
   "name": "python",
   "nbconvert_exporter": "python",
   "pygments_lexer": "ipython3",
   "version": "3.11.3"
  }
 },
 "nbformat": 4,
 "nbformat_minor": 4
}
